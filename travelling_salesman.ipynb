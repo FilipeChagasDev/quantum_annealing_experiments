{
 "cells": [
  {
   "cell_type": "markdown",
   "metadata": {},
   "source": [
    "## Problem description\n",
    "Given a set of cities $\\{c_1, c_2, ..., c_N\\}$, find the path $P\\in\\mathbb{N}^N$ (where each $P_i$ is the index of a city) that passes through all the cities with the least total travelling distance.\n",
    "\n",
    "\n",
    "## Constrained quadratic formulation\n",
    "The Travellig Salesman problem can be modeled as the following constrained quadratic optimization model:\n",
    "\n",
    "$$x^* = \\min_{x \\in \\mathbb{B}^{N\\times N}} \\sum_{p=2}^N \\sum_{i=1}^N \\sum_{j \\neq i }^N d_{(i,j)} x_{(i,p)} x_{(j,p-1)}, \\qquad \\forall_{1 \\leq i \\leq N}: \\sum_{p=1}^N x^*_{(i,p)} = 1$$\n",
    "\n",
    "where:\n",
    "* $x_{(i,p)} \\in \\mathbb{B}$ - indicates that the i-th city of the map is allocated in the p-th position of the path;\n",
    "* $d_{(i,j)} \\in \\mathbb{R}$ - distance between i-th and j-th cities.\n",
    "\n",
    "Once $x^*$ is found, the path $P=[P_1, P_2, ..., P_N]$ is defined as $P_p = \\max_{0 \\leq i \\leq N} x_{(i,p)}$.\n",
    "\n",
    "\n",
    "## Converting to QUBO\n",
    "\n",
    "To convert the 1th equation to a QUBO model, we can transform the constrait into a quadratic penalty term $H(x)$:\n",
    "\n",
    "$$H(x) = \\sum_{i=1}^N \\left( \\sum_{p=1}^N x_{(i,p)} - 1 \\right)^2 = \\sum_{i=1}^N \\left( \\sum_{p=1}^N \\sum_{q=1}^N x_{(i,p)} x_{(i,q)} - 2 \\sum_{p=1}^N x_{(i,p)} + 1\\right) = \\sum_{i=1}^N \\sum_{p=1}^N \\sum_{q=1}^N x_{(i,p)}  x_{(i,q)} - 2 \\sum_{i=1}^N \\sum_{p=1}^N x_{(i,p)} + N$$\n",
    "\n",
    "Since the constant $N$ does not change the final result of the optimization, we can simply cut it out of the term.\n",
    "\n",
    "$$H(x) = \\sum_{i=1}^N \\sum_{p=1}^N \\sum_{q=1}^N x_{(i,p)}  x_{(i,q)} - 2 \\sum_{i=1}^N \\sum_{p=1}^N x_{(i,p)}$$\n",
    "\n",
    "The final objective function is:\n",
    "\n",
    "$$L(x) = \\sum_{p=2}^N \\sum_{i=1}^N \\sum_{j \\neq i}^N d_{(i,j)} x_{(i,p)} x_{(j,p-1)} + \\gamma H(x)$$\n",
    "\n",
    "where $\\gamma \\in \\mathbb{R}$ is a penalty factor."
   ]
  },
  {
   "cell_type": "code",
   "execution_count": null,
   "metadata": {
    "vscode": {
     "languageId": "plaintext"
    }
   },
   "outputs": [],
   "source": [
    "import numpy as np"
   ]
  },
  {
   "cell_type": "code",
   "execution_count": null,
   "metadata": {
    "vscode": {
     "languageId": "plaintext"
    }
   },
   "outputs": [],
   "source": [
    "N = 5 # Number of cities"
   ]
  },
  {
   "cell_type": "code",
   "execution_count": null,
   "metadata": {
    "vscode": {
     "languageId": "plaintext"
    }
   },
   "outputs": [],
   "source": [
    "# -- Generate distances ---\n",
    "d = np.zeros(shape=(N,N))\n",
    "for i in range(N):\n",
    "    for j in range(i+1, N):\n",
    "    d_i_j = np.random.rand()\n",
    "    d[i,j] = d_i_j\n",
    "    d[j,i] = d_i_j\n",
    "\n",
    "# I know there are more efficient ways to create a symmetric matrix with numpy. This code is for ease of understanding."
   ]
  },
  {
   "cell_type": "code",
   "execution_count": null,
   "metadata": {
    "vscode": {
     "languageId": "plaintext"
    }
   },
   "outputs": [],
   "source": [
    "# --- Generate variables ---\n",
    "x = np.zeros(shape=(N,N))\n",
    "count = 0\n",
    "for i in range(N):\n",
    "    for p in range(N):\n",
    "        x[i,p] = count\n",
    "        count += 1"
   ]
  },
  {
   "cell_type": "code",
   "execution_count": null,
   "metadata": {
    "vscode": {
     "languageId": "plaintext"
    }
   },
   "outputs": [],
   "source": [
    "# --- Generate the QUBO matrix ---\n",
    "qubo = {(a,b):0 for a in range(N) for b in range(N)}\n",
    "gamma = 10\n",
    "\n",
    "st = lambda a, b: (a, b) if a <= b else (b, a) # sorted tuple\n",
    "\n",
    "# main term\n",
    "for p in range(1, N):\n",
    "    for i in range(N):\n",
    "        for j in range(N):\n",
    "            if i != j:\n",
    "                qubo[st(x[i,p], x[j,p-1])] += d[i,j]\n",
    "\n",
    "# penalty terms\n",
    "for i in range(N):\n",
    "    for p in range(N):\n",
    "        for q in range(N):\n",
    "            qubo[st(x[i,p], x[i,q])] += gamma\n",
    "\n",
    "\n",
    "for i in range(N):\n",
    "    for p in range(N):\n",
    "        qubo[st(x[i,p], x[i,p])] -= 2*gamma"
   ]
  }
 ],
 "metadata": {
  "language_info": {
   "name": "python"
  }
 },
 "nbformat": 4,
 "nbformat_minor": 2
}
